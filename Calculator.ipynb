{
 "cells": [
  {
   "cell_type": "code",
   "execution_count": 42,
   "id": "fe71d72d-571c-4964-a5ff-367fcdf28285",
   "metadata": {},
   "outputs": [
    {
     "name": "stdin",
     "output_type": "stream",
     "text": [
      "Veuillez entrer un nombre svp 10\n",
      "Veuillez entrer un deuxième nombre svp 5\n",
      "Enter the operator (+, -, *, /):\n",
      " -\n"
     ]
    },
    {
     "name": "stdout",
     "output_type": "stream",
     "text": [
      "The result is 5.0\n"
     ]
    },
    {
     "name": "stdin",
     "output_type": "stream",
     "text": [
      "DO YOU WANT TO USE THE CALCULATOR AGAIN: YES OR NO yes\n",
      "Veuillez entrer un nombre svp 5\n",
      "Veuillez entrer un deuxième nombre svp 4\n",
      "Enter the operator (+, -, *, /):\n",
      " +\n"
     ]
    },
    {
     "name": "stdout",
     "output_type": "stream",
     "text": [
      "The result is 9.0\n"
     ]
    },
    {
     "name": "stdin",
     "output_type": "stream",
     "text": [
      "DO YOU WANT TO USE THE CALCULATOR AGAIN: YES OR NO no\n"
     ]
    },
    {
     "name": "stdout",
     "output_type": "stream",
     "text": [
      "See you next time\n"
     ]
    }
   ],
   "source": [
    "num1=float(input(\"Veuillez entrer un nombre svp\"))\n",
    "num2=float(input(\"Veuillez entrer un deuxième nombre svp\"))\n",
    "def calculator(num1,num2):\n",
    "    operator=input(\"Enter the operator (+, -, *, /):\\n\")\n",
    "    operators=[\"+\", \"-\", \"*\", \"/\"]\n",
    "    while operator not in operators:\n",
    "        operator=input(\"Enter the operator (+, -, *, /):\\n\")\n",
    "    try:  \n",
    "        if operator==\"+\":\n",
    "            print(f\"The result is {num1 +num2}\") \n",
    "        elif operator==\"-\":\n",
    "            print(f\"The result is {num1 -num2}\") \n",
    "        elif operator==\"*\":\n",
    "            print(f\"The result is {num1*num2}\") \n",
    "        elif operator==\"/\":\n",
    "            if num2==0:\n",
    "                print(\"On ne divise pas par zero\")\n",
    "            else:\n",
    "                print(f\"The result is {num1/num2}\") \n",
    "        play_again=\"yes\"\n",
    "        play_again=input(\"DO YOU WANT TO USE THE CALCULATOR AGAIN: YES OR NO\")\n",
    "        if play_again.lower()==\"yes\":\n",
    "            num1=float(input(\"Veuillez entrer un nombre svp\"))\n",
    "            num2=float(input(\"Veuillez entrer un deuxième nombre svp\"))\n",
    "            calculator(num1,num2)\n",
    "        else:\n",
    "            print(\"See you next time\")\n",
    "    except ZeroDivisionError:\n",
    "        print(\"ON NE PEUT PAS DIVISER PAR ZERO\")\n",
    "calculator(num1,num2)"
   ]
  },
  {
   "cell_type": "code",
   "execution_count": null,
   "id": "960da90e-e6a3-4d07-bb41-0622f5dcb37f",
   "metadata": {},
   "outputs": [],
   "source": []
  }
 ],
 "metadata": {
  "kernelspec": {
   "display_name": "Python 3 (ipykernel)",
   "language": "python",
   "name": "python3"
  },
  "language_info": {
   "codemirror_mode": {
    "name": "ipython",
    "version": 3
   },
   "file_extension": ".py",
   "mimetype": "text/x-python",
   "name": "python",
   "nbconvert_exporter": "python",
   "pygments_lexer": "ipython3",
   "version": "3.12.4"
  }
 },
 "nbformat": 4,
 "nbformat_minor": 5
}
